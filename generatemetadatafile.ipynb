{
 "cells": [
  {
   "cell_type": "code",
   "execution_count": 1,
   "id": "fa5cd292",
   "metadata": {},
   "outputs": [],
   "source": [
    "import pandas as pd, random, sys\n",
    "from collections import defaultdict, Counter"
   ]
  },
  {
   "cell_type": "code",
   "execution_count": null,
   "id": "abd70aa6",
   "metadata": {},
   "outputs": [
    {
     "ename": "SyntaxError",
     "evalue": "(unicode error) 'unicodeescape' codec can't decode bytes in position 2-3: truncated \\UXXXXXXXX escape (241134964.py, line 2)",
     "output_type": "error",
     "traceback": [
      "\u001b[1;36m  Cell \u001b[1;32mIn[2], line 2\u001b[1;36m\u001b[0m\n\u001b[1;33m    INPUT_CSV  = \"C:\\Users\\chris\\Desktop\\Documents\\Code\\MultimodalDataChallenge2025\\generatemetadatafile.ipynb\"      # existing metadata CSV\u001b[0m\n\u001b[1;37m                                                                                                                     ^\u001b[0m\n\u001b[1;31mSyntaxError\u001b[0m\u001b[1;31m:\u001b[0m (unicode error) 'unicodeescape' codec can't decode bytes in position 2-3: truncated \\UXXXXXXXX escape\n"
     ]
    }
   ],
   "source": [
    "# === PARAMS (edit these) ======================================================\n",
    "INPUT_CSV  = \"C:/Users/chris/Desktop/Documents/Code/MultimodalDataChallenge2025/generatemetadatafile.ipynb\"      # existing metadata CSV\n",
    "OUTPUT_CSV = \"shopping_list.csv\"              # where to save upload file\n",
    "PER_CLASS  = 30                               # how many per class per type\n",
    "TYPES      = [\"Latitude\",\"Longitude\",\"Habitat\",\"Substrate\",\"eventDate\"]\n",
    "SEED       = 42\n",
    "# ============================================================================\n",
    "\n",
    "COSTS = {\"Latitude\":1, \"Longitude\":1, \"Habitat\":2, \"Substrate\":2, \"eventDate\":2}\n",
    "\n",
    "def _norm_empty(x):\n",
    "    if pd.isna(x): return \"\"\n",
    "    s = str(x).strip()\n",
    "    return \"\" if s.lower() in {\"\", \"nan\", \"none\"} else s\n",
    "\n",
    "# Load & sanity checks\n",
    "df = pd.read_csv(INPUT_CSV)\n",
    "required_cols = [\"filename_index\",\"taxonID_index\",\"Habitat\",\"Latitude\",\"Longitude\",\"Substrate\",\"eventDate\"]\n",
    "missing = [c for c in required_cols if c not in df.columns]\n",
    "if missing:\n",
    "    raise ValueError(f\"Missing columns in CSV: {missing}\")\n",
    "\n",
    "# Normalize empties\n",
    "for col in [\"Habitat\",\"Latitude\",\"Longitude\",\"Substrate\",\"eventDate\"]:\n",
    "    df[col] = df[col].map(_norm_empty)\n",
    "\n",
    "# Sampling\n",
    "random.seed(SEED)\n",
    "shopping = []\n",
    "shortfalls = defaultdict(Counter)\n",
    "\n",
    "for cls, g in df.groupby(\"taxonID_index\", sort=True):\n",
    "    for mtype in TYPES:\n",
    "        pool = g[g[mtype] == \"\"][\"filename_index\"].tolist()\n",
    "        if len(pool) < PER_CLASS:\n",
    "            shortfalls[cls][mtype] = PER_CLASS - len(pool)\n",
    "            chosen = pool\n",
    "        else:\n",
    "            chosen = random.sample(pool, PER_CLASS)\n",
    "        shopping.extend((fname, mtype) for fname in chosen)\n",
    "\n",
    "# Save CSV (no header): \"image,metadata_type\"\n",
    "out = pd.DataFrame(shopping, columns=[\"image\",\"metadata_type\"])\n",
    "out.to_csv(OUTPUT_CSV, index=False, header=False)\n",
    "\n",
    "# Report\n",
    "counts = Counter(mt for _, mt in shopping)\n",
    "classes = df[\"taxonID_index\"].nunique()\n",
    "target_per_type = PER_CLASS * classes\n",
    "target_cost = sum(target_per_type * COSTS[t] for t in TYPES)\n",
    "selected_cost = sum(counts[t] * COSTS[t] for t in counts)\n",
    "\n",
    "print(f\"Classes: {classes}\")\n",
    "print(\"Selected per type:\", dict(counts))\n",
    "print(f\"Estimated cost (selected): {selected_cost} credits\")\n",
    "print(f\"Ideal target cost (no shortfalls): {target_cost} credits\")\n",
    "\n",
    "# Shortfalls summary (only show types with deficits)\n",
    "missing_total = sum(sum(c.values()) for c in shortfalls.values())\n",
    "if missing_total > 0:\n",
    "    print(\"\\nShortfalls (couldn't find enough empties):\")\n",
    "    # show first few lines; comment out the next block if you want full dump\n",
    "    shown = 0\n",
    "    for cls in sorted(shortfalls):\n",
    "        row = {k:v for k,v in shortfalls[cls].items() if v>0}\n",
    "        if row:\n",
    "            print(f\"  class {cls}: {row}\")\n",
    "            shown += 1\n",
    "            if shown >= 15:\n",
    "                print(\"  … (truncated)\")\n",
    "                break\n",
    "\n",
    "# Peek at output\n",
    "print(\"\\nFirst 10 rows of shopping list:\")\n",
    "display(out.head(10))\n",
    "print(f\"\\nSaved to: {OUTPUT_CSV}\")\n"
   ]
  }
 ],
 "metadata": {
  "kernelspec": {
   "display_name": "torch",
   "language": "python",
   "name": "python3"
  },
  "language_info": {
   "codemirror_mode": {
    "name": "ipython",
    "version": 3
   },
   "file_extension": ".py",
   "mimetype": "text/x-python",
   "name": "python",
   "nbconvert_exporter": "python",
   "pygments_lexer": "ipython3",
   "version": "3.10.18"
  }
 },
 "nbformat": 4,
 "nbformat_minor": 5
}
